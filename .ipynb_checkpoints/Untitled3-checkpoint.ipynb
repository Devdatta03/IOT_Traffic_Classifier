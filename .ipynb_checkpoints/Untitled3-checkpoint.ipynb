{
 "cells": [
  {
   "cell_type": "code",
   "execution_count": 1,
   "metadata": {},
   "outputs": [],
   "source": [
    "import os\n",
    "import re\n",
    "import pandas as pd"
   ]
  },
  {
   "cell_type": "code",
   "execution_count": 16,
   "metadata": {},
   "outputs": [],
   "source": [
    "data_path = '../Data/iot_23_datasets_small/opt/Malware-Project/BigDataset/IoTScenarios/CTU-IoT-Malware-Capture-36-1/bro/conn.log.labeled'"
   ]
  },
  {
   "cell_type": "code",
   "execution_count": 19,
   "metadata": {},
   "outputs": [],
   "source": [
    "data_file = open(data_path)\n",
    "line = data_file.readline()\n",
    "attrib = {}\n",
    "while line.strip().startswith('#'):\n",
    "    # print(line)\n",
    "    key, *val = line.split()\n",
    "    attrib[key[1:]] = val\n",
    "    line = data_file.readline()\n",
    "#print(attrib)\n",
    "df = {}\n",
    "while line.strip().startswith('#close') is False:\n",
    "    for k, v in zip(attrib['fields'], line.split()):\n",
    "        #print(k, v)\n",
    "        if k not in df.keys():\n",
    "            df[k] = []\n",
    "        df[k].append(v)\n",
    "    line = data_file.readline()\n",
    "\n",
    "out_data = pd.DataFrame(df)\n",
    "\n",
    "out_data"
   ]
  },
  {
   "cell_type": "code",
   "execution_count": null,
   "metadata": {},
   "outputs": [],
   "source": [
    "def ZeekLogs_to_csv(file_path):\n",
    "    data_file = open(file_path)\n",
    "    line = data_file.readline()\n",
    "    attribs = {}\n",
    "    while line.strip().startswith('#'):\n",
    "        # print(line)\n",
    "        key, *val = line.split()\n",
    "        attribs[key[1:]] = val\n",
    "        line = data_file.readline()\n",
    "    #print(attribs)\n",
    "    df = {}\n",
    "    while line.strip().startswith('#close') is False:\n",
    "        for k, v in zip(attrib['fields'], line.split()):\n",
    "            #print(k, v)\n",
    "            if k not in df.keys():\n",
    "                df[k] = []\n",
    "            df[k].append(v)\n",
    "        line = data_file.readline()\n",
    "\n",
    "    out_data = pd.DataFrame(df)"
   ]
  },
  {
   "cell_type": "code",
   "execution_count": null,
   "metadata": {},
   "outputs": [],
   "source": []
  },
  {
   "cell_type": "code",
   "execution_count": null,
   "metadata": {},
   "outputs": [],
   "source": [
    "from parsezeeklogs import ParseZeekLogs\n",
    "fields = ['ts','uid','id.orig_h','id.orig_p','id.resp_h','id.resp_p','proto','service','duration',\n",
    "          'orig_bytes','resp_bytes', 'conn_state',  'local_orig','local_resp','missed_bytes',\n",
    "          'history','orig_pkts','orig_ip_bytes','resp_pkts','resp_ip_bytes','tunnel_parents',\n",
    "          'label','detailed-label']\n",
    "\n",
    "with open('out.csv',\"w\") as outfile:\n",
    "    for field in fields:\n",
    "        outfile.write(field+',')\n",
    "    outfile.write('\\n')\n",
    "    for log_record in ParseZeekLogs(data_path, output_format=\"csv\", safe_headers=False, fields=fields):\n",
    "        if log_record is not None:\n",
    "            outfile.write(log_record + \"\\n\")"
   ]
  },
  {
   "cell_type": "code",
   "execution_count": null,
   "metadata": {},
   "outputs": [],
   "source": []
  }
 ],
 "metadata": {
  "kernelspec": {
   "display_name": "Python 3",
   "language": "python",
   "name": "python3"
  },
  "language_info": {
   "codemirror_mode": {
    "name": "ipython",
    "version": 3
   },
   "file_extension": ".py",
   "mimetype": "text/x-python",
   "name": "python",
   "nbconvert_exporter": "python",
   "pygments_lexer": "ipython3",
   "version": "3.7.5"
  }
 },
 "nbformat": 4,
 "nbformat_minor": 4
}
