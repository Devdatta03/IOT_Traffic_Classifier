{
 "cells": [
  {
   "cell_type": "code",
   "execution_count": 66,
   "metadata": {},
   "outputs": [],
   "source": [
    "import numpy as np\n",
    "import os\n",
    "import re\n",
    "from sklearn.preprocessing import LabelEncoder\n",
    "from sklearn.model_selection import train_test_split\n",
    "import matplotlib.pyplot as plt\n",
    "from utils import *"
   ]
  },
  {
   "cell_type": "markdown",
   "metadata": {},
   "source": [
    "def preprocess_data(list_filepath,\n",
    "                    drop_col=['uid','service','conn_state','local_resp', 'local_orig','history','tunnel_parents',\n",
    "                              'label'],\n",
    "                    int_cols = ['id.orig_p','id.resp_p', 'orig_bytes', 'resp_bytes', 'missed_bytes','orig_pkts',\n",
    "                                'orig_ip_bytes','resp_pkts', 'resp_ip_bytes'],\n",
    "                    float_cols = ['ts','duration']):\n",
    "    \n",
    "    data = None\n",
    "    for file in list_filepath:\n",
    "        if data is None:\n",
    "            data = ZeekLogs_to_csv(file)\n",
    "        else:\n",
    "            data_single = ZeekLogs_to_csv(file)\n",
    "            data = pd.concat([data,data_single],ignore_index=True)\n",
    "        print('Files Loaded:{}'.format(file))\n",
    "    \n",
    "    # drop_columns = ['uid','service','conn_state','local_resp', 'local_orig','history','tunnel_parents']\n",
    "    data = data.drop(columns=drop_col)\n",
    "    \n",
    "    data['detailed-label'] = data['detailed-label'].replace(to_replace= '-',value= 'Benign')\n",
    "    \n",
    "    data = data.replace(to_replace='-', value=pd.NA)\n",
    "    \n",
    "    # int_cols = ['id.orig_p','id.resp_p', 'orig_bytes', 'resp_bytes', 'missed_bytes','orig_pkts',\n",
    "    #             'orig_ip_bytes','resp_pkts', 'resp_ip_bytes']\n",
    "    # float_cols = ['ts','duration']\n",
    "    \n",
    "    # Modified\n",
    "    data = data.fillna(value=0)\n",
    "    \n",
    "    for col in int_cols:\n",
    "        data[col] = data[col].astype(np.int32)\n",
    "    \n",
    "    for col in float_cols:\n",
    "        data[col] = data[col].astype(np.float32)\n",
    "    \n",
    "        \n",
    "    label_enc_col = ['id.orig_h', 'id.resp_h', 'proto']\n",
    "    for col in label_enc_col:\n",
    "        data[col] = LabelEncoder().fit_transform(data[col])\n",
    "    \n",
    "    return data"
   ]
  },
  {
   "cell_type": "code",
   "execution_count": 2,
   "metadata": {},
   "outputs": [],
   "source": [
    "path = '../Data/iot_23_datasets_small/opt/Malware-Project/BigDataset/IoTScenarios'"
   ]
  },
  {
   "cell_type": "code",
   "execution_count": 3,
   "metadata": {},
   "outputs": [],
   "source": [
    "all_files_path = []\n",
    "for folder in os.listdir(path):\n",
    "    subpath = path + '/' + folder\n",
    "    # print(return_final_folder(subpath))\n",
    "    all_files_path.append(return_final_folder(subpath))"
   ]
  },
  {
   "cell_type": "code",
   "execution_count": 4,
   "metadata": {},
   "outputs": [
    {
     "data": {
      "text/plain": [
       "['../Data/iot_23_datasets_small/opt/Malware-Project/BigDataset/IoTScenarios/CTU-Honeypot-Capture-4-1/bro/conn.log.labeled',\n",
       " '../Data/iot_23_datasets_small/opt/Malware-Project/BigDataset/IoTScenarios/CTU-Honeypot-Capture-5-1/bro/conn.log.labeled',\n",
       " '../Data/iot_23_datasets_small/opt/Malware-Project/BigDataset/IoTScenarios/CTU-Honeypot-Capture-7-1/Somfy-01/bro/conn.log.labeled',\n",
       " '../Data/iot_23_datasets_small/opt/Malware-Project/BigDataset/IoTScenarios/CTU-IoT-Malware-Capture-1-1/bro/conn.log.labeled',\n",
       " '../Data/iot_23_datasets_small/opt/Malware-Project/BigDataset/IoTScenarios/CTU-IoT-Malware-Capture-17-1/bro/conn.log.labeled',\n",
       " '../Data/iot_23_datasets_small/opt/Malware-Project/BigDataset/IoTScenarios/CTU-IoT-Malware-Capture-20-1/bro/conn.log.labeled',\n",
       " '../Data/iot_23_datasets_small/opt/Malware-Project/BigDataset/IoTScenarios/CTU-IoT-Malware-Capture-21-1/bro/conn.log.labeled',\n",
       " '../Data/iot_23_datasets_small/opt/Malware-Project/BigDataset/IoTScenarios/CTU-IoT-Malware-Capture-3-1/bro/conn.log.labeled',\n",
       " '../Data/iot_23_datasets_small/opt/Malware-Project/BigDataset/IoTScenarios/CTU-IoT-Malware-Capture-33-1/bro/conn.log.labeled',\n",
       " '../Data/iot_23_datasets_small/opt/Malware-Project/BigDataset/IoTScenarios/CTU-IoT-Malware-Capture-34-1/bro/conn.log.labeled',\n",
       " '../Data/iot_23_datasets_small/opt/Malware-Project/BigDataset/IoTScenarios/CTU-IoT-Malware-Capture-35-1/bro/conn.log.labeled',\n",
       " '../Data/iot_23_datasets_small/opt/Malware-Project/BigDataset/IoTScenarios/CTU-IoT-Malware-Capture-36-1/bro/conn.log.labeled',\n",
       " '../Data/iot_23_datasets_small/opt/Malware-Project/BigDataset/IoTScenarios/CTU-IoT-Malware-Capture-39-1/bro/conn.log.labeled',\n",
       " '../Data/iot_23_datasets_small/opt/Malware-Project/BigDataset/IoTScenarios/CTU-IoT-Malware-Capture-42-1/bro/conn.log.labeled',\n",
       " '../Data/iot_23_datasets_small/opt/Malware-Project/BigDataset/IoTScenarios/CTU-IoT-Malware-Capture-43-1/bro/conn.log.labeled',\n",
       " '../Data/iot_23_datasets_small/opt/Malware-Project/BigDataset/IoTScenarios/CTU-IoT-Malware-Capture-44-1/bro/conn.log.labeled',\n",
       " '../Data/iot_23_datasets_small/opt/Malware-Project/BigDataset/IoTScenarios/CTU-IoT-Malware-Capture-48-1/bro/conn.log.labeled',\n",
       " '../Data/iot_23_datasets_small/opt/Malware-Project/BigDataset/IoTScenarios/CTU-IoT-Malware-Capture-49-1/bro/conn.log.labeled',\n",
       " '../Data/iot_23_datasets_small/opt/Malware-Project/BigDataset/IoTScenarios/CTU-IoT-Malware-Capture-52-1/bro/conn.log.labeled',\n",
       " '../Data/iot_23_datasets_small/opt/Malware-Project/BigDataset/IoTScenarios/CTU-IoT-Malware-Capture-60-1/bro/conn.log.labeled',\n",
       " '../Data/iot_23_datasets_small/opt/Malware-Project/BigDataset/IoTScenarios/CTU-IoT-Malware-Capture-7-1/bro/conn.log.labeled',\n",
       " '../Data/iot_23_datasets_small/opt/Malware-Project/BigDataset/IoTScenarios/CTU-IoT-Malware-Capture-8-1/bro/conn.log.labeled',\n",
       " '../Data/iot_23_datasets_small/opt/Malware-Project/BigDataset/IoTScenarios/CTU-IoT-Malware-Capture-9-1/bro/conn.log.labeled']"
      ]
     },
     "execution_count": 4,
     "metadata": {},
     "output_type": "execute_result"
    }
   ],
   "source": [
    "all_files_path"
   ]
  },
  {
   "cell_type": "code",
   "execution_count": 5,
   "metadata": {},
   "outputs": [],
   "source": [
    "files = ['Malware-Capture-7-1','-1-1','-3-1','-8-1']"
   ]
  },
  {
   "cell_type": "code",
   "execution_count": 6,
   "metadata": {},
   "outputs": [],
   "source": [
    "req_files = []"
   ]
  },
  {
   "cell_type": "code",
   "execution_count": 7,
   "metadata": {},
   "outputs": [],
   "source": [
    "for file in files:\n",
    "    req_files.extend([path for path in all_files_path if re.search(file, path)])"
   ]
  },
  {
   "cell_type": "code",
   "execution_count": 8,
   "metadata": {},
   "outputs": [
    {
     "data": {
      "text/plain": [
       "['../Data/iot_23_datasets_small/opt/Malware-Project/BigDataset/IoTScenarios/CTU-IoT-Malware-Capture-7-1/bro/conn.log.labeled',\n",
       " '../Data/iot_23_datasets_small/opt/Malware-Project/BigDataset/IoTScenarios/CTU-IoT-Malware-Capture-1-1/bro/conn.log.labeled',\n",
       " '../Data/iot_23_datasets_small/opt/Malware-Project/BigDataset/IoTScenarios/CTU-IoT-Malware-Capture-3-1/bro/conn.log.labeled',\n",
       " '../Data/iot_23_datasets_small/opt/Malware-Project/BigDataset/IoTScenarios/CTU-IoT-Malware-Capture-8-1/bro/conn.log.labeled']"
      ]
     },
     "execution_count": 8,
     "metadata": {},
     "output_type": "execute_result"
    }
   ],
   "source": [
    "req_files"
   ]
  },
  {
   "cell_type": "code",
   "execution_count": 9,
   "metadata": {},
   "outputs": [
    {
     "name": "stdout",
     "output_type": "stream",
     "text": [
      "Files Loaded:../Data/iot_23_datasets_small/opt/Malware-Project/BigDataset/IoTScenarios/CTU-IoT-Malware-Capture-7-1/bro/conn.log.labeled\n",
      "Files Loaded:../Data/iot_23_datasets_small/opt/Malware-Project/BigDataset/IoTScenarios/CTU-IoT-Malware-Capture-1-1/bro/conn.log.labeled\n",
      "Files Loaded:../Data/iot_23_datasets_small/opt/Malware-Project/BigDataset/IoTScenarios/CTU-IoT-Malware-Capture-3-1/bro/conn.log.labeled\n",
      "Files Loaded:../Data/iot_23_datasets_small/opt/Malware-Project/BigDataset/IoTScenarios/CTU-IoT-Malware-Capture-8-1/bro/conn.log.labeled\n"
     ]
    }
   ],
   "source": [
    "data = preprocess_data(req_files)"
   ]
  },
  {
   "cell_type": "code",
   "execution_count": 10,
   "metadata": {},
   "outputs": [],
   "source": [
    "#data.pop('ts')"
   ]
  },
  {
   "cell_type": "code",
   "execution_count": 11,
   "metadata": {},
   "outputs": [
    {
     "data": {
      "text/plain": [
       "id.orig_h           int32\n",
       "id.orig_p           int32\n",
       "id.resp_h           int32\n",
       "id.resp_p           int32\n",
       "proto               int32\n",
       "duration          float32\n",
       "orig_bytes          int32\n",
       "resp_bytes          int32\n",
       "missed_bytes        int32\n",
       "orig_pkts           int32\n",
       "orig_ip_bytes       int32\n",
       "resp_pkts           int32\n",
       "resp_ip_bytes       int32\n",
       "detailed-label     object\n",
       "dtype: object"
      ]
     },
     "execution_count": 11,
     "metadata": {},
     "output_type": "execute_result"
    }
   ],
   "source": [
    "data.dtypes"
   ]
  },
  {
   "cell_type": "code",
   "execution_count": 12,
   "metadata": {},
   "outputs": [
    {
     "data": {
      "text/plain": [
       "Okiru                        11333397\n",
       "PartOfAHorizontalPortScan      685062\n",
       "Benign                         551947\n",
       "DDoS                            39584\n",
       "C&C                              8238\n",
       "Attack                           5962\n",
       "C&C-HeartBeat                    5778\n",
       "Name: detailed-label, dtype: int64"
      ]
     },
     "execution_count": 12,
     "metadata": {},
     "output_type": "execute_result"
    }
   ],
   "source": [
    "data['detailed-label'].value_counts()"
   ]
  },
  {
   "cell_type": "code",
   "execution_count": 13,
   "metadata": {},
   "outputs": [
    {
     "data": {
      "text/plain": [
       "array(['Benign', 'C&C-HeartBeat', 'Okiru', 'DDoS',\n",
       "       'PartOfAHorizontalPortScan', 'C&C', 'Attack'], dtype=object)"
      ]
     },
     "execution_count": 13,
     "metadata": {},
     "output_type": "execute_result"
    }
   ],
   "source": [
    "data['detailed-label'].unique()"
   ]
  },
  {
   "cell_type": "code",
   "execution_count": 14,
   "metadata": {},
   "outputs": [],
   "source": [
    "det_label = data['detailed-label']"
   ]
  },
  {
   "cell_type": "code",
   "execution_count": 15,
   "metadata": {},
   "outputs": [],
   "source": [
    "y_labels = LabelEncoder().fit_transform(data.pop('detailed-label'))"
   ]
  },
  {
   "cell_type": "code",
   "execution_count": 16,
   "metadata": {},
   "outputs": [
    {
     "data": {
      "text/plain": [
       "array([1, 1, 1, ..., 2, 1, 1])"
      ]
     },
     "execution_count": 16,
     "metadata": {},
     "output_type": "execute_result"
    }
   ],
   "source": [
    "y_labels"
   ]
  },
  {
   "cell_type": "code",
   "execution_count": 17,
   "metadata": {},
   "outputs": [],
   "source": [
    "xlabels = np.array(data)"
   ]
  },
  {
   "cell_type": "code",
   "execution_count": 18,
   "metadata": {},
   "outputs": [
    {
     "data": {
      "text/plain": [
       "(12629968, 13)"
      ]
     },
     "execution_count": 18,
     "metadata": {},
     "output_type": "execute_result"
    }
   ],
   "source": [
    "xlabels.shape"
   ]
  },
  {
   "cell_type": "code",
   "execution_count": 19,
   "metadata": {},
   "outputs": [],
   "source": [
    "for i in range(xlabels.shape[1]):\n",
    "    xlabels[:,i] = (xlabels[:,i] - xlabels[:,i].mean())/xlabels[:,i].std()"
   ]
  },
  {
   "cell_type": "code",
   "execution_count": 20,
   "metadata": {},
   "outputs": [
    {
     "data": {
      "text/plain": [
       "array([[-2.28105482e-02, -3.35185259e-01,  4.63004344e-01, ...,\n",
       "         1.63845678e+01, -1.14920606e-02, -1.95085948e-02],\n",
       "       [-2.28105482e-02,  3.71906504e+00, -7.69474389e-02, ...,\n",
       "         9.48127289e-01,  1.07284409e+00,  1.80088811e+00],\n",
       "       [-2.28105482e-02,  3.68688386e+00, -7.69474389e-02, ...,\n",
       "         9.48127289e-01,  1.07284409e+00,  2.83060745e+00],\n",
       "       ...,\n",
       "       [-1.93435452e-02,  2.38648268e+00, -1.24604750e+00, ...,\n",
       "         1.12504322e-01, -1.14920606e-02, -1.95085948e-02],\n",
       "       [-1.93435452e-02, -7.67852614e-01, -8.85138084e-01, ...,\n",
       "         2.93179558e-01,  5.30676014e-01,  6.79229533e-01],\n",
       "       [-1.93435452e-02, -7.67852614e-01, -8.83650850e-01, ...,\n",
       "         2.93179558e-01,  5.30676014e-01,  6.79229533e-01]])"
      ]
     },
     "execution_count": 20,
     "metadata": {},
     "output_type": "execute_result"
    }
   ],
   "source": [
    "xlabels"
   ]
  },
  {
   "cell_type": "code",
   "execution_count": 79,
   "metadata": {},
   "outputs": [],
   "source": [
    "model = tf.keras.Sequential([tf.keras.layers.Dense(13),\n",
    "                             tf.keras.layers.Dense(13,activation='relu'),\n",
    "                             tf.keras.layers.Dense(64,activation='tanh'),\n",
    "                             tf.keras.layers.Dense(64,activation='relu'),\n",
    "                             tf.keras.layers.Dense(1)])"
   ]
  },
  {
   "cell_type": "code",
   "execution_count": 86,
   "metadata": {},
   "outputs": [],
   "source": [
    "from tensorflow.keras.metrics import PrecisionAtRecall,Accuracy,MeanAbsoluteError,FalseNegatives,SparseCategoricalCrossentropy"
   ]
  },
  {
   "cell_type": "code",
   "execution_count": 93,
   "metadata": {},
   "outputs": [],
   "source": [
    "model.compile(optimizer=tf.keras.optimizers.Adam(learning_rate=0.005),\n",
    "              loss=tf.keras.losses.MeanSquaredError(),\n",
    "              metrics=[tf.keras.metrics.RootMeanSquaredError(),MeanAbsoluteError(),\n",
    "                       tf.keras.metrics.Accuracy()])"
   ]
  },
  {
   "cell_type": "code",
   "execution_count": 94,
   "metadata": {},
   "outputs": [
    {
     "name": "stdout",
     "output_type": "stream",
     "text": [
      "Train on 12629968 samples\n",
      "Epoch 1/15\n",
      "12629968/12629968 [==============================] - 6s 0us/sample - loss: 0.0223 - root_mean_squared_error: 0.1495 - mean_absolute_error: 0.0285 - accuracy: 1.4173e-05\n",
      "Epoch 2/15\n",
      "12629968/12629968 [==============================] - 5s 0us/sample - loss: 0.0185 - root_mean_squared_error: 0.1360 - mean_absolute_error: 0.0236 - accuracy: 1.3539e-05\n",
      "Epoch 3/15\n",
      "12629968/12629968 [==============================] - 5s 0us/sample - loss: 0.0172 - root_mean_squared_error: 0.1312 - mean_absolute_error: 0.0241 - accuracy: 1.1243e-05\n",
      "Epoch 4/15\n",
      "12629968/12629968 [==============================] - 5s 0us/sample - loss: 0.0156 - root_mean_squared_error: 0.1249 - mean_absolute_error: 0.0235 - accuracy: 1.1164e-05\n",
      "Epoch 5/15\n",
      "12629968/12629968 [==============================] - 5s 0us/sample - loss: 0.0149 - root_mean_squared_error: 0.1219 - mean_absolute_error: 0.0226 - accuracy: 1.4331e-05\n",
      "Epoch 6/15\n",
      "12629968/12629968 [==============================] - 6s 0us/sample - loss: 0.0128 - root_mean_squared_error: 0.1129 - mean_absolute_error: 0.0229 - accuracy: 1.0451e-05\n",
      "Epoch 7/15\n",
      "12629968/12629968 [==============================] - 6s 0us/sample - loss: 0.0144 - root_mean_squared_error: 0.1201 - mean_absolute_error: 0.0215 - accuracy: 1.6231e-05\n",
      "Epoch 8/15\n",
      "12629968/12629968 [==============================] - 6s 0us/sample - loss: 0.0123 - root_mean_squared_error: 0.1110 - mean_absolute_error: 0.0220 - accuracy: 1.2827e-051s - loss: 0.0129 - root_mean_squared_erro\n",
      "Epoch 9/15\n",
      "12629968/12629968 [==============================] - 6s 0us/sample - loss: 0.0111 - root_mean_squared_error: 0.1054 - mean_absolute_error: 0.0202 - accuracy: 1.0926e-05\n",
      "Epoch 10/15\n",
      "12629968/12629968 [==============================] - 5s 0us/sample - loss: 0.0134 - root_mean_squared_error: 0.1159 - mean_absolute_error: 0.0245 - accuracy: 1.1639e-05\n",
      "Epoch 11/15\n",
      "12629968/12629968 [==============================] - 5s 0us/sample - loss: 0.0121 - root_mean_squared_error: 0.1102 - mean_absolute_error: 0.0195 - accuracy: 1.4727e-05\n",
      "Epoch 12/15\n",
      "12629968/12629968 [==============================] - 5s 0us/sample - loss: 0.0121 - root_mean_squared_error: 0.1101 - mean_absolute_error: 0.0208 - accuracy: 1.4173e-05\n",
      "Epoch 13/15\n",
      "12629968/12629968 [==============================] - 5s 0us/sample - loss: 0.0117 - root_mean_squared_error: 0.1081 - mean_absolute_error: 0.0186 - accuracy: 1.6944e-05\n",
      "Epoch 14/15\n",
      "12629968/12629968 [==============================] - 5s 0us/sample - loss: 0.0098 - root_mean_squared_error: 0.0992 - mean_absolute_error: 0.0180 - accuracy: 1.6627e-05\n",
      "Epoch 15/15\n",
      "12629968/12629968 [==============================] - 5s 0us/sample - loss: 0.0095 - root_mean_squared_error: 0.0975 - mean_absolute_error: 0.0152 - accuracy: 1.8686e-05\n"
     ]
    },
    {
     "data": {
      "text/plain": [
       "<tensorflow.python.keras.callbacks.History at 0x2d0babc2d88>"
      ]
     },
     "execution_count": 94,
     "metadata": {},
     "output_type": "execute_result"
    }
   ],
   "source": [
    "model.fit(xlabels,y_labels,batch_size=16384,epochs=15)"
   ]
  },
  {
   "cell_type": "code",
   "execution_count": 82,
   "metadata": {},
   "outputs": [],
   "source": [
    "history = model.history.history"
   ]
  },
  {
   "cell_type": "code",
   "execution_count": 83,
   "metadata": {},
   "outputs": [
    {
     "data": {
      "text/plain": [
       "{'loss': [0.29367308514680757,\n",
       "  0.04514799743221829,\n",
       "  0.035740215434970767,\n",
       "  0.0323934789717556,\n",
       "  0.030525704469567986,\n",
       "  0.029347837519972712,\n",
       "  0.028239126164485224,\n",
       "  0.02720183775997382,\n",
       "  0.026637569343964197,\n",
       "  0.025412370765438883,\n",
       "  0.025118261544811015,\n",
       "  0.023584867759713007,\n",
       "  0.0226158840782607,\n",
       "  0.022067294882594117,\n",
       "  0.02067460837934455],\n",
       " 'root_mean_squared_error': [0.5419161,\n",
       "  0.21248063,\n",
       "  0.18905085,\n",
       "  0.17998192,\n",
       "  0.17471598,\n",
       "  0.17131208,\n",
       "  0.16804501,\n",
       "  0.16492978,\n",
       "  0.16321015,\n",
       "  0.15941255,\n",
       "  0.15848745,\n",
       "  0.15357372,\n",
       "  0.1503858,\n",
       "  0.14855066,\n",
       "  0.14378668]}"
      ]
     },
     "execution_count": 83,
     "metadata": {},
     "output_type": "execute_result"
    }
   ],
   "source": [
    "history"
   ]
  },
  {
   "cell_type": "code",
   "execution_count": 134,
   "metadata": {},
   "outputs": [
    {
     "data": {
      "image/png": "[encoded data removed]",
      "text/plain": [
       "<Figure size 432x288 with 1 Axes>"
      ]
     },
     "metadata": {
      "needs_background": "light"
     },
     "output_type": "display_data"
    }
   ],
   "source": [
    "plt.plot(history['loss'])\n",
    "plt.title('Loss vs Epoch')\n",
    "plt.savefig('LossvsEpoch')"
   ]
  },
  {
   "cell_type": "code",
   "execution_count": null,
   "metadata": {},
   "outputs": [],
   "source": []
  },
  {
   "cell_type": "code",
   "execution_count": 24,
   "metadata": {},
   "outputs": [],
   "source": [
    "#tf.keras.backend.clear_session()"
   ]
  },
  {
   "cell_type": "code",
   "execution_count": 43,
   "metadata": {},
   "outputs": [
    {
     "name": "stdout",
     "output_type": "stream",
     "text": [
      "WARNING:tensorflow:From d:\\python37\\lib\\site-packages\\tensorflow_core\\python\\ops\\resource_variable_ops.py:1786: calling BaseResourceVariable.__init__ (from tensorflow.python.ops.resource_variable_ops) with constraint is deprecated and will be removed in a future version.\n",
      "Instructions for updating:\n",
      "If using Keras pass *_constraint arguments to layers.\n",
      "INFO:tensorflow:Assets written to: IOT_Network_Analyzer\\assets\n"
     ]
    }
   ],
   "source": [
    "model.save('IOT_Network_Analyzer')"
   ]
  },
  {
   "cell_type": "code",
   "execution_count": 44,
   "metadata": {},
   "outputs": [],
   "source": [
    "xtrain,xtest,ytrain,ytest = train_test_split(xlabels,y_labels, test_size=0.2)"
   ]
  },
  {
   "cell_type": "code",
   "execution_count": 45,
   "metadata": {},
   "outputs": [],
   "source": [
    "y_pred = model.predict(xtest, batch_size=16384)"
   ]
  },
  {
   "cell_type": "code",
   "execution_count": 46,
   "metadata": {},
   "outputs": [],
   "source": [
    "y_pred = np.around(y_pred)"
   ]
  },
  {
   "cell_type": "code",
   "execution_count": 47,
   "metadata": {},
   "outputs": [
    {
     "name": "stdout",
     "output_type": "stream",
     "text": [
      "0 5\n",
      "1 83753\n",
      "2 28508\n",
      "3 4353\n",
      "4 3470\n",
      "5 2269844\n",
      "6 136001\n",
      "7 60\n"
     ]
    }
   ],
   "source": [
    "for i in range(0,8):\n",
    "    print(i,(y_pred == i).sum())"
   ]
  },
  {
   "cell_type": "code",
   "execution_count": 48,
   "metadata": {},
   "outputs": [
    {
     "name": "stdout",
     "output_type": "stream",
     "text": [
      "0 1193\n",
      "1 110160\n",
      "2 1663\n",
      "3 1110\n",
      "4 7923\n",
      "5 2267433\n",
      "6 136512\n",
      "7 0\n"
     ]
    }
   ],
   "source": [
    "for i in range(0,8):\n",
    "    print(i,(ytest == i).sum())"
   ]
  },
  {
   "cell_type": "code",
   "execution_count": 49,
   "metadata": {},
   "outputs": [
    {
     "name": "stdout",
     "output_type": "stream",
     "text": [
      "0 5962\n",
      "1 551947\n",
      "2 8238\n",
      "3 5778\n",
      "4 39584\n",
      "5 11333397\n",
      "6 685062\n",
      "7 0\n"
     ]
    }
   ],
   "source": [
    "for i in range(0,8):\n",
    "    print(i,(y_labels == i).sum())"
   ]
  },
  {
   "cell_type": "code",
   "execution_count": 50,
   "metadata": {},
   "outputs": [],
   "source": [
    "#Okiru                        11333397\n",
    "#PartOfAHorizontalPortScan      685062\n",
    "#Benign                         551947\n",
    "#DDoS                            39584\n",
    "#C&C                              8238\n",
    "#Attack                           5962\n",
    "#C&C-HeartBeat                    5778"
   ]
  },
  {
   "cell_type": "markdown",
   "metadata": {},
   "source": [
    "|Virus | Label|\n",
    "------|------\n",
    "|Okiru  |  5|\n",
    "PartOfAHorizontalPortScan  |  6\n",
    "Benign  |  1\n",
    "DDoS  |  4\n",
    "C&C  |  2\n",
    "Attack  |  0\n",
    "C&C-Heartbreak  |  3"
   ]
  },
  {
   "cell_type": "code",
   "execution_count": 51,
   "metadata": {},
   "outputs": [],
   "source": [
    "result = []"
   ]
  },
  {
   "cell_type": "code",
   "execution_count": 52,
   "metadata": {},
   "outputs": [],
   "source": [
    "result = [y_pred[i] == ytest[i] for i in range(ytest.shape[0])]"
   ]
  },
  {
   "cell_type": "code",
   "execution_count": 53,
   "metadata": {},
   "outputs": [],
   "source": [
    "result = np.array(result)"
   ]
  },
  {
   "cell_type": "code",
   "execution_count": 54,
   "metadata": {},
   "outputs": [],
   "source": [
    "true = (result == True).sum()"
   ]
  },
  {
   "cell_type": "code",
   "execution_count": 55,
   "metadata": {},
   "outputs": [],
   "source": [
    "false = (result == False).sum()"
   ]
  },
  {
   "cell_type": "code",
   "execution_count": 56,
   "metadata": {},
   "outputs": [],
   "source": [
    "total = result.shape[0]"
   ]
  },
  {
   "cell_type": "code",
   "execution_count": 57,
   "metadata": {},
   "outputs": [
    {
     "data": {
      "text/plain": [
       "2525994"
      ]
     },
     "execution_count": 57,
     "metadata": {},
     "output_type": "execute_result"
    }
   ],
   "source": [
    "total"
   ]
  },
  {
   "cell_type": "code",
   "execution_count": 39,
   "metadata": {},
   "outputs": [
    {
     "data": {
      "text/plain": [
       "0.9943210474767556"
      ]
     },
     "execution_count": 39,
     "metadata": {},
     "output_type": "execute_result"
    }
   ],
   "source": [
    "true/total "
   ]
  },
  {
   "cell_type": "code",
   "execution_count": 40,
   "metadata": {},
   "outputs": [
    {
     "data": {
      "text/plain": [
       "0.005678952523244315"
      ]
     },
     "execution_count": 40,
     "metadata": {},
     "output_type": "execute_result"
    }
   ],
   "source": [
    "false/total"
   ]
  },
  {
   "cell_type": "code",
   "execution_count": 110,
   "metadata": {},
   "outputs": [],
   "source": [
    "from sklearn.metrics import f1_score, roc_auc_score,recall_score,precision_score"
   ]
  },
  {
   "cell_type": "code",
   "execution_count": 118,
   "metadata": {},
   "outputs": [
    {
     "data": {
      "text/plain": [
       "array([0.00000000e+00, 9.98053801e-01, 7.01557458e-05, 1.69308523e-01,\n",
       "       0.00000000e+00, 9.98861596e-01, 9.69353167e-01, 0.00000000e+00])"
      ]
     },
     "execution_count": 118,
     "metadata": {},
     "output_type": "execute_result"
    }
   ],
   "source": [
    "pscore = precision_score(ytest,y_pred,average=None)\n",
    "pscore"
   ]
  },
  {
   "cell_type": "code",
   "execution_count": 128,
   "metadata": {},
   "outputs": [
    {
     "data": {
      "text/plain": [
       "<BarContainer object of 7 artists>"
      ]
     },
     "execution_count": 128,
     "metadata": {},
     "output_type": "execute_result"
    },
    {
     "data": {
      "image/png": "[encoded data removed]",
      "text/plain": [
       "<Figure size 1440x360 with 1 Axes>"
      ]
     },
     "metadata": {
      "needs_background": "light"
     },
     "output_type": "display_data"
    }
   ],
   "source": [
    "plt.figure(figsize=(20,5))\n",
    "plt.bar(labels,pscore[1:8])\n",
    "plt.title('Precision')\n",
    "plt.savefig('Precision')"
   ]
  },
  {
   "cell_type": "code",
   "execution_count": 116,
   "metadata": {},
   "outputs": [
    {
     "name": "stderr",
     "output_type": "stream",
     "text": [
      "d:\\python37\\lib\\site-packages\\sklearn\\metrics\\_classification.py:1272: UndefinedMetricWarning: Recall is ill-defined and being set to 0.0 in labels with no true samples. Use `zero_division` parameter to control this behavior.\n",
      "  _warn_prf(average, modifier, msg_start, len(result))\n"
     ]
    },
    {
     "data": {
      "text/plain": [
       "array([0.        , 0.75880537, 0.00120265, 0.66396396, 0.        ,\n",
       "       0.9999237 , 0.96572462, 0.        ])"
      ]
     },
     "execution_count": 116,
     "metadata": {},
     "output_type": "execute_result"
    }
   ],
   "source": [
    "rscore = recall_score(ytest,y_pred,average=None)\n",
    "rscore"
   ]
  },
  {
   "cell_type": "code",
   "execution_count": 135,
   "metadata": {},
   "outputs": [
    {
     "data": {
      "image/png": "[encoded data removed]",
      "text/plain": [
       "<Figure size 1440x360 with 1 Axes>"
      ]
     },
     "metadata": {
      "needs_background": "light"
     },
     "output_type": "display_data"
    }
   ],
   "source": [
    "plt.figure(figsize=(20,5))\n",
    "plt.bar(labels, rscore[1:8])\n",
    "plt.title('Recall')\n",
    "plt.savefig('Recall')"
   ]
  },
  {
   "cell_type": "code",
   "execution_count": 115,
   "metadata": {},
   "outputs": [
    {
     "data": {
      "text/plain": [
       "0.9870998933871409"
      ]
     },
     "execution_count": 115,
     "metadata": {},
     "output_type": "execute_result"
    }
   ],
   "source": [
    "f1_score(ytest,y_pred, average='weighted')"
   ]
  },
  {
   "cell_type": "code",
   "execution_count": 98,
   "metadata": {},
   "outputs": [],
   "source": [
    "labels = [ 'Attack','Benign','C&C','C&C-HeartBeat', 'DDoS',\n",
    "           'PartOfAHorizontalPortScan', 'Okiru']"
   ]
  },
  {
   "cell_type": "code",
   "execution_count": null,
   "metadata": {},
   "outputs": [],
   "source": []
  }
 ],
 "metadata": {
  "kernelspec": {
   "display_name": "Python 3",
   "language": "python",
   "name": "python3"
  },
  "language_info": {
   "codemirror_mode": {
    "name": "ipython",
    "version": 3
   },
   "file_extension": ".py",
   "mimetype": "text/x-python",
   "name": "python",
   "nbconvert_exporter": "python",
   "pygments_lexer": "ipython3",
   "version": "3.7.5"
  }
 },
 "nbformat": 4,
 "nbformat_minor": 4
}
